{
 "cells": [
  {
   "cell_type": "code",
   "execution_count": null,
   "metadata": {},
   "outputs": [],
   "source": [
    "import pandas as pd"
   ]
  },
  {
   "cell_type": "code",
   "execution_count": null,
   "metadata": {},
   "outputs": [],
   "source": [
    "df = pd.read_csv(\"fake_data_address.csv\")\n",
    "df.head(5)"
   ]
  },
  {
   "cell_type": "code",
   "execution_count": null,
   "metadata": {},
   "outputs": [],
   "source": [
    "df2 = pd.read_csv(\"fake_data_dob.csv\")\n",
    "df2.head()"
   ]
  },
  {
   "cell_type": "code",
   "execution_count": null,
   "metadata": {},
   "outputs": [],
   "source": [
    "# Create new column in first dataframe for merging\n",
    "df['full_name'] = df['last_name'] + ', ' + df['first_name'] + ' ' + df['middle_name']\n",
    "df"
   ]
  },
  {
   "cell_type": "code",
   "execution_count": null,
   "metadata": {},
   "outputs": [],
   "source": [
    "# rename column in df2 \n",
    "df2['full_name'] = df2['last_name, first_name middle_name']"
   ]
  },
  {
   "cell_type": "code",
   "execution_count": null,
   "metadata": {},
   "outputs": [],
   "source": [
    "# Create new DF by merging on full_name column\n",
    "df3 = pd.merge(df, df2, on='full_name')\n",
    "df3"
   ]
  },
  {
   "cell_type": "code",
   "execution_count": null,
   "metadata": {},
   "outputs": [],
   "source": [
    "#Drop redundent columns\n",
    "df3 = df3.drop(columns = ['last_name, first_name middle_name'])\n",
    "df3.drop(['full_name'], axis = 1)\n",
    "df3.head()"
   ]
  },
  {
   "cell_type": "code",
   "execution_count": null,
   "metadata": {},
   "outputs": [],
   "source": [
    "# Extract address line 1 information with regex and create new column \n",
    "p =  r'^Line 1: (.*)(?:Line 2: )'\n",
    "df3['Line_1'] = df3['Line 1: address Line 2: address2'].str.extract(p)\n",
    "df3.head()"
   ]
  },
  {
   "cell_type": "code",
   "execution_count": null,
   "metadata": {},
   "outputs": [],
   "source": [
    "# Extract address line 2 information with regex and create new column \n",
    "p = r'Line 2: (.*$)'\n",
    "df3['line_2'] = df3['Line 1: address Line 2: address2'].str.extract(p)\n",
    "df3.head()"
   ]
  },
  {
   "cell_type": "code",
   "execution_count": null,
   "metadata": {},
   "outputs": [],
   "source": [
    "# Extract city information using regex and create new column\n",
    "df3['city'] = df3['state-city'].str.extract(r'-(.*$)')\n",
    "df3.head()"
   ]
  },
  {
   "cell_type": "code",
   "execution_count": null,
   "metadata": {},
   "outputs": [],
   "source": [
    "# Extract state information using regex and create new column\n",
    "df3['state'] = df3['state-city'].str.extract(r'(^.*)-')\n",
    "df3.head()"
   ]
  },
  {
   "cell_type": "code",
   "execution_count": null,
   "metadata": {},
   "outputs": [],
   "source": [
    "# Delete old city-state column \n",
    "df3 = df3.drop(columns = ['state-city','Line 1: address Line 2: address2'], axis = 1)\n",
    "df3.head()"
   ]
  },
  {
   "cell_type": "code",
   "execution_count": null,
   "metadata": {},
   "outputs": [],
   "source": [
    "df3.dtypes"
   ]
  },
  {
   "cell_type": "code",
   "execution_count": null,
   "metadata": {},
   "outputs": [],
   "source": [
    "df3['zip'] = df3['zip'].astype(int)\n",
    "df3.head()"
   ]
  },
  {
   "cell_type": "code",
   "execution_count": null,
   "metadata": {},
   "outputs": [],
   "source": [
    "from datetime import datetime\n",
    "now = datetime.now()"
   ]
  },
  {
   "cell_type": "code",
   "execution_count": null,
   "metadata": {},
   "outputs": [],
   "source": [
    "df3['dob'] = pd.to_datetime(df3['dob'])\n",
    "df3.head()"
   ]
  },
  {
   "cell_type": "code",
   "execution_count": null,
   "metadata": {},
   "outputs": [],
   "source": [
    "df3['age'] = (now - df3['birthdate']).astype('<m8[Y]')\n",
    "df3.head()"
   ]
  },
  {
   "cell_type": "code",
   "execution_count": null,
   "metadata": {},
   "outputs": [],
   "source": [
    "age_df = df3.loc[(df3[\"age\"] >= 40) &\n",
    "                (df3[\"age\"] <= 60) , :]\n",
    "age_df"
   ]
  },
  {
   "cell_type": "code",
   "execution_count": null,
   "metadata": {},
   "outputs": [],
   "source": [
    "for index, row in age_df.iterrows():\n",
    "    print(f\"{row['first_name']} {row['middle_name']} {row ['last_name']}\")\n",
    "    print(f\"{row['Line_1']}\")\n",
    "    if row['line_2'] != \"\":\n",
    "        print(f\"{row['line_2']}\")\n",
    "    print(f\"{row['city']}, {row['state']} {row['zip']}\")\n",
    "    print(f\"---------------------------\")"
   ]
  }
 ],
 "metadata": {
  "language_info": {
   "name": "python"
  },
  "orig_nbformat": 4
 },
 "nbformat": 4,
 "nbformat_minor": 2
}
